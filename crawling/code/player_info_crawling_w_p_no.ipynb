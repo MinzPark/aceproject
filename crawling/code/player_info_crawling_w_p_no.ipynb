{
 "cells": [
  {
   "cell_type": "code",
   "execution_count": null,
   "metadata": {},
   "outputs": [],
   "source": [
    "import pandas as pd\n",
    "from bs4 import BeautifulSoup\n",
    "from selenium import webdriver\n",
    "import time\n",
    "import pandas as pd\n",
    "from selenium.webdriver.common.by import By\n",
    "from selenium.webdriver.common.keys import Keys\n",
    "\n",
    "pd.set_option('display.max_columns', None)\n",
    "def user_name(link):\n",
    "    driver = webdriver.Chrome()\n",
    "    url = link\n",
    "    driver.get(url)\n",
    "    time.sleep(2)\n",
    "    html_1 = driver.page_source \n",
    "    soup_1 = BeautifulSoup(html_1, 'html.parser')\n",
    "    # mytable = soup_1.find(id=\"section_warp\")\n",
    "    mytable = soup_1.find('div', class_='table_type01 transverse_scroll cbox')\n",
    "    col= [\n",
    "        \"Rank\", \"Name\", 'Team', \"War\", \"G\", \"PA\", \"effective PA\", \"AB\", \"R\", \"H\", \"2B\", \"3B\", \"HR\",\n",
    "        \"TB\", \"RBI\", \"SB\", \"CS\", \"BB\", \"HP\", \"IB\", \"SO\", \"GDP\", \"SH\", \"SF\",\n",
    "        \"AVG\", \"OBP\", \"SLG\", \"OPS\", \"R/ePA\", \"wRC+\", \"WAR\"\n",
    "    ]\n",
    "    data_total=[]\n",
    "    for row in mytable.find_all('tr'):    \n",
    "        data=[]\n",
    "        for contents in row.find_all('td'):\n",
    "            data.append(contents.text)\n",
    "        if len(data) != 0 :\n",
    "            data_total.append(data)\n",
    "    df=pd.DataFrame(data_total, columns=col)\n",
    "\n",
    "    a_tags = driver.find_elements(By.TAG_NAME, 'a')\n",
    "    name_link=[]\n",
    "    for tag in a_tags : \n",
    "        middle=tag.get_attribute('href')\n",
    "        if 'player/?m=playerinfo&' in middle:\n",
    "            name_link.append(middle)\n",
    "\n",
    "    return list(set(name_link))\n"
   ]
  },
  {
   "cell_type": "code",
   "execution_count": null,
   "metadata": {},
   "outputs": [],
   "source": [
    "highschool = user_name('https://statiz.sporki.com/stats/?m=main&m2=batting&m3=default&so=&ob=&year=2024&sy=2010&ey=2023&te=&po=&lt=10100&reg=C100&pe=&ds=&de=&we=&hr=&ha=&ct=&st=&vp=&bo=&pt=&pp=&ii=&vc=&um=&oo=&rr=&sc=&bc=&ba=&li=&as=18&ae=30&pl=&gc=&lr=&pr=1000&ph=&hs=50000&us=&na=1&ls=1&sf1=G&sk1=&sv1=&sf2=G&sk2=&sv2=-25')\n",
    "university = user_name('https://statiz.sporki.com/stats/?m=main&m2=batting&m3=default&so=&ob=&year=2024&sy=2010&ey=2023&te=&po=&lt=10100&reg=C100&pe=&ds=&de=&we=&hr=&ha=&ct=&st=&vp=&bo=&pt=&pp=&ii=&vc=&um=&oo=&rr=&sc=&bc=&ba=&li=&as=18&ae=30&pl=&gc=&lr=&pr=1000&ph=&hs=&us=60000&na=1&ls=1&sf1=G&sk1=&sv1=&sf2=G&sk2=&sv2=-25')"
   ]
  }
 ],
 "metadata": {
  "language_info": {
   "name": "python"
  }
 },
 "nbformat": 4,
 "nbformat_minor": 2
}
